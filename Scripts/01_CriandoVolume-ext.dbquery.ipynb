{
 "cells": [
  {
   "cell_type": "code",
   "execution_count": 0,
   "metadata": {
    "application/vnd.databricks.v1+cell": {
     "cellMetadata": {},
     "inputWidgets": {},
     "nuid": "ad1958ce-2b6b-4b4b-96c0-dbfeed19a04c",
     "showTitle": false,
     "tableResultSettingsMap": {},
     "title": ""
    }
   },
   "outputs": [],
   "source": [
    "-- Volunes gerenciados\n",
    "create volume if not exists aulas_databricks.default.teste;\n",
    "drop volume aulas_databricks.default.teste;\n",
    "\n",
    "-- Schemas e volumes externos\n",
    "create schema if not exists aulas_databricks.azure;\n",
    "create external volume aulas_databricks.azure.projeto01 --vol aparecer no catalog DtBrcks\n",
    "comment 'Volume externo na Azure'\n",
    "location 'abfss://uc-ext-azure@patrickexternalazure.dfs.core.windows.net/projeto01'; --pasta dentro do Azure\n",
    "\n",
    "-- Schemas e volumes externos\n",
    "--create schema if not exists aulas_databricks.azure;\n",
    "create external volume aulas_databricks.azure.logistica --vol aparecer no catalog DtBrcks\n",
    "comment 'Volume externo na Azure - logistica'\n",
    "location 'abfss://uc-ext-azure@patrickexternalazure.dfs.core.windows.net/logistica'; --pasta dentro do Azure\n",
    "\n",
    "--Drop teste para testar o acesso e seguranca ext\n",
    "drop volume aulas_databricks.azure.projeto01;\n",
    "drop volume aulas_databricks.azure.logistica;\n",
    "drop schema aulas_databricks.azure;\n",
    "\n",
    "--Montar novamente"
   ]
  }
 ],
 "metadata": {
  "application/vnd.databricks.v1+notebook": {
   "computePreferences": null,
   "dashboards": [],
   "environmentMetadata": null,
   "inputWidgetPreferences": null,
   "language": "sql",
   "notebookMetadata": {
    "sqlQueryOptions": {
     "applyAutoLimit": true,
     "catalog": "aulas_databricks",
     "schema": "default"
    }
   },
   "notebookName": "01_CriandoVolume-ext.dbquery.ipynb",
   "widgets": {}
  },
  "language_info": {
   "name": "sql"
  }
 },
 "nbformat": 4,
 "nbformat_minor": 0
}
