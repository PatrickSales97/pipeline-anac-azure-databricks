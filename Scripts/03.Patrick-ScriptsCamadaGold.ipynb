{
 "cells": [
  {
   "cell_type": "code",
   "execution_count": 0,
   "metadata": {
    "application/vnd.databricks.v1+cell": {
     "cellMetadata": {
      "byteLimit": 2048000,
      "rowLimit": 10000
     },
     "inputWidgets": {},
     "nuid": "864c10b2-94a6-46b1-b9ff-5d6ad702a0cb",
     "showTitle": false,
     "tableResultSettingsMap": {},
     "title": ""
    }
   },
   "outputs": [],
   "source": [
    "\"\"\"\n",
    "Descrição do projeto Gold - Base final para os analistas de cada estado tratar sua determinada base\n",
    "1º - Selecionar somente colunas que o cliente/setor solicitou OK\n",
    "2º - Criar uma nova coluna que faz a soma de todas as lesoes OK\n",
    "3º - Renomear colunas para ficar mais intuitivas para o usuário final OK\n",
    "4º - Excluir dados de estados que tenham a classificação [Indeterminado, Sem Registro, Exterior] OK\n",
    "5º - Inserir uma coluna com o nome de atualização para o usuario ver quando os dados forem atualizados OK\n",
    "6º - Salvar a camada Gold particionada por UF = 'Estado' OK\n",
    "\n",
    "\n",
    "\"\"\""
   ]
  },
  {
   "cell_type": "code",
   "execution_count": 0,
   "metadata": {
    "application/vnd.databricks.v1+cell": {
     "cellMetadata": {
      "byteLimit": 2048000,
      "rowLimit": 10000
     },
     "inputWidgets": {},
     "nuid": "cc201b38-e877-4cfb-bbf6-7efe4ffe5c8b",
     "showTitle": false,
     "tableResultSettingsMap": {},
     "title": ""
    }
   },
   "outputs": [],
   "source": [
    "%fs\n",
    "ls dbfs:/mnt/Anac/Silver/"
   ]
  },
  {
   "cell_type": "code",
   "execution_count": 0,
   "metadata": {
    "application/vnd.databricks.v1+cell": {
     "cellMetadata": {
      "byteLimit": 2048000,
      "rowLimit": 10000
     },
     "inputWidgets": {},
     "nuid": "349fa952-5f52-4e28-808a-0a8ade5641ce",
     "showTitle": false,
     "tableResultSettingsMap": {},
     "title": ""
    }
   },
   "outputs": [],
   "source": [
    "df = spark.read.parquet(\"dbfs:/mnt/Anac/Silver/anac_silver.parquet/\")\n",
    "\n",
    "display(df)"
   ]
  },
  {
   "cell_type": "code",
   "execution_count": 0,
   "metadata": {
    "application/vnd.databricks.v1+cell": {
     "cellMetadata": {
      "byteLimit": 2048000,
      "rowLimit": 10000
     },
     "inputWidgets": {},
     "nuid": "1a5f532d-c906-44eb-8f65-48937890358b",
     "showTitle": false,
     "tableResultSettingsMap": {},
     "title": ""
    }
   },
   "outputs": [],
   "source": [
    "print(df.columns)"
   ]
  },
  {
   "cell_type": "code",
   "execution_count": 0,
   "metadata": {
    "application/vnd.databricks.v1+cell": {
     "cellMetadata": {
      "byteLimit": 2048000,
      "rowLimit": 10000
     },
     "inputWidgets": {},
     "nuid": "9d747899-578a-4439-a4c1-d5d02a1db60e",
     "showTitle": false,
     "tableResultSettingsMap": {},
     "title": ""
    }
   },
   "outputs": [],
   "source": [
    "# 1° item - colunas solicitadas\n",
    "\n",
    "colunas = ['Aerodromo_de_Destino', 'Aerodromo_de_Origem', 'Classificacao_da_Ocorrência', 'Danos_a_Aeronave', 'Data_da_Ocorrencia', 'Municipio', 'UF', 'Regiao', 'Tipo_de_Aerodromo', 'Tipo_de_Ocorrencia', 'Lesoes_Desconhecidas_Passageiros', 'Lesoes_Desconhecidas_Terceiros', 'Lesoes_Desconhecidas_Tripulantes', 'Lesoes_Fatais_Passageiros', 'Lesoes_Fatais_Terceiros', 'Lesoes_Fatais_Tripulantes', 'Lesoes_Graves_Passageiros', 'Lesoes_Graves_Terceiros', 'Lesoes_Graves_Tripulantes', 'Lesoes_Leves_Passageiros', 'Lesoes_Leves_Terceiros', 'Lesoes_Leves_Tripulantes']\n",
    "\n",
    "df = df.select(colunas)\n",
    "display (df)"
   ]
  },
  {
   "cell_type": "code",
   "execution_count": 0,
   "metadata": {
    "application/vnd.databricks.v1+cell": {
     "cellMetadata": {
      "byteLimit": 2048000,
      "rowLimit": 10000
     },
     "inputWidgets": {},
     "nuid": "b4bcd934-827c-41a7-be43-836c9029b18d",
     "showTitle": false,
     "tableResultSettingsMap": {
      "0": {
       "dataGridStateBlob": "{\"version\":1,\"tableState\":{\"columnPinning\":{\"left\":[\"#row_number#\"],\"right\":[]},\"columnSizing\":{},\"columnVisibility\":{}},\"settings\":{\"columns\":{}},\"syncTimestamp\":1757096366796}",
       "filterBlob": null,
       "queryPlanFiltersBlob": null,
       "tableResultIndex": 0
      }
     },
     "title": ""
    }
   },
   "outputs": [],
   "source": [
    "# 2º item - coluna somando as lesoes\n",
    "\n",
    "colunas_somar = [\n",
    "    'Lesoes_Desconhecidas_Passageiros',\n",
    "    'Lesoes_Desconhecidas_Terceiros',\n",
    "    'Lesoes_Desconhecidas_Tripulantes',\n",
    "    'Lesoes_Fatais_Passageiros',\n",
    "    'Lesoes_Fatais_Terceiros',\n",
    "    'Lesoes_Fatais_Tripulantes',\n",
    "    'Lesoes_Graves_Passageiros',\n",
    "    'Lesoes_Graves_Terceiros',\n",
    "    'Lesoes_Graves_Tripulantes',\n",
    "    'Lesoes_Leves_Passageiros',\n",
    "    'Lesoes_Leves_Terceiros',\n",
    "    'Lesoes_Leves_Tripulantes'\n",
    "    ]\n",
    "\n",
    "df = df.withColumn('Total_Lesoes', sum(df[i] for i in colunas_somar))\n",
    "display(df)"
   ]
  },
  {
   "cell_type": "code",
   "execution_count": 0,
   "metadata": {
    "application/vnd.databricks.v1+cell": {
     "cellMetadata": {
      "byteLimit": 2048000,
      "rowLimit": 10000
     },
     "inputWidgets": {},
     "nuid": "1f1d12ac-0abb-4897-99ad-c5112bf30057",
     "showTitle": false,
     "tableResultSettingsMap": {},
     "title": ""
    }
   },
   "outputs": [],
   "source": [
    "print(df.columns)"
   ]
  },
  {
   "cell_type": "code",
   "execution_count": 0,
   "metadata": {
    "application/vnd.databricks.v1+cell": {
     "cellMetadata": {
      "byteLimit": 2048000,
      "rowLimit": 10000
     },
     "inputWidgets": {},
     "nuid": "e0ff5238-ada7-4fb6-966c-80156d4580f5",
     "showTitle": false,
     "tableResultSettingsMap": {},
     "title": ""
    }
   },
   "outputs": [],
   "source": [
    "# 3º item - renomear colunas\n",
    "\n",
    "df = df\\\n",
    "    .withColumnRenamed('Aerodromo_de_Destino', 'Destino')\\\n",
    "    .withColumnRenamed('Aerodromo_de_Origem', 'Origem')\\\n",
    "    .withColumnRenamed('Classificacao_da_Ocorrência', 'Classificacao')\\\n",
    "    .withColumnRenamed('Danos_a_Aeronave', 'Danos')\\\n",
    "    .withColumnRenamed('Data_da_Ocorrencia', 'Data')\\\n",
    "    .withColumnRenamed('UF', 'Estado')\n",
    "display(df)"
   ]
  },
  {
   "cell_type": "code",
   "execution_count": 0,
   "metadata": {
    "application/vnd.databricks.v1+cell": {
     "cellMetadata": {
      "byteLimit": 2048000,
      "rowLimit": 10000
     },
     "inputWidgets": {},
     "nuid": "3303fbf6-5ec7-4c10-b9d0-4c8baedeef30",
     "showTitle": false,
     "tableResultSettingsMap": {
      "0": {
       "dataGridStateBlob": "{\"version\":1,\"tableState\":{\"columnPinning\":{\"left\":[\"#row_number#\"],\"right\":[]},\"columnSizing\":{},\"columnVisibility\":{}},\"settings\":{\"columns\":{}},\"syncTimestamp\":1757097084540}",
       "filterBlob": null,
       "queryPlanFiltersBlob": null,
       "tableResultIndex": 0
      }
     },
     "title": ""
    }
   },
   "outputs": [],
   "source": [
    "# 4º item - excluir dados de estados que tenham a classificação [Indeterminado, Sem Registro, Exterior]\n",
    "# ~ = simbolo de negacao\n",
    "\n",
    "classific = ['Indeterminado', 'Sem Registro', 'Exterior']\n",
    "df = df.filter(~df.Estado.isin(classific))\n",
    "display(df)"
   ]
  },
  {
   "cell_type": "code",
   "execution_count": 0,
   "metadata": {
    "application/vnd.databricks.v1+cell": {
     "cellMetadata": {
      "byteLimit": 2048000,
      "rowLimit": 10000
     },
     "inputWidgets": {},
     "nuid": "9f751c64-6590-4953-ac39-ca63ef943491",
     "showTitle": false,
     "tableResultSettingsMap": {},
     "title": ""
    }
   },
   "outputs": [],
   "source": [
    "# 5º item - inserir colnuna com nome de atualização para o usuario ver quando os dados foram atualizados\n",
    "\n",
    "from pyspark.sql.functions import current_timestamp, date_format, from_utc_timestamp\n",
    "df = df.withColumn(\"Atualizacao\",\\\n",
    "     date_format(from_utc_timestamp(current_timestamp(), \"America/Sao_Paulo\"), \"yyyy/MM/dd HH:mm:ss\"))\n",
    "display(df)"
   ]
  },
  {
   "cell_type": "code",
   "execution_count": 0,
   "metadata": {
    "application/vnd.databricks.v1+cell": {
     "cellMetadata": {
      "byteLimit": 2048000,
      "rowLimit": 10000
     },
     "inputWidgets": {},
     "nuid": "0672bc49-1a71-4352-90bc-c50f1d7ad6bd",
     "showTitle": false,
     "tableResultSettingsMap": {},
     "title": ""
    }
   },
   "outputs": [],
   "source": [
    "# 6° item - salvar a camada Gold particionada por UF = 'Estado'\n",
    "\n",
    "df.write.mode(\"overwrite\")\\\n",
    "    .format(\"parquet\")\\\n",
    "    .partitionBy(\"Estado\")\\\n",
    "    .save(\"dbfs:/mnt/Anac/Gold/anac_gold_partic/\")"
   ]
  },
  {
   "cell_type": "code",
   "execution_count": 0,
   "metadata": {
    "application/vnd.databricks.v1+cell": {
     "cellMetadata": {},
     "inputWidgets": {},
     "nuid": "a226435d-25e3-499a-8348-4c345375087a",
     "showTitle": false,
     "tableResultSettingsMap": {},
     "title": ""
    }
   },
   "outputs": [],
   "source": []
  }
 ],
 "metadata": {
  "application/vnd.databricks.v1+notebook": {
   "computePreferences": null,
   "dashboards": [],
   "environmentMetadata": {
    "base_environment": "",
    "environment_version": "3"
   },
   "inputWidgetPreferences": null,
   "language": "python",
   "notebookMetadata": {
    "mostRecentlyExecutedCommandWithImplicitDF": {
     "commandId": 4514275112419415,
     "dataframes": [
      "_sqldf"
     ]
    },
    "pythonIndentUnit": 4
   },
   "notebookName": "03.Patrick-ScriptsCamadaGold",
   "widgets": {}
  },
  "language_info": {
   "name": "python"
  }
 },
 "nbformat": 4,
 "nbformat_minor": 0
}
