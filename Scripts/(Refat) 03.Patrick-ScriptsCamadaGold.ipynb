{
 "cells": [
  {
   "cell_type": "code",
   "execution_count": 0,
   "metadata": {
    "application/vnd.databricks.v1+cell": {
     "cellMetadata": {
      "byteLimit": 2048000,
      "rowLimit": 10000
     },
     "inputWidgets": {},
     "nuid": "349fa952-5f52-4e28-808a-0a8ade5641ce",
     "showTitle": false,
     "tableResultSettingsMap": {},
     "title": ""
    }
   },
   "outputs": [],
   "source": [
    "df = spark.read.parquet(\"dbfs:/mnt/Anac/Silver/anac_silver.parquet/\")\n",
    "\n",
    "from pyspark.sql.functions import current_timestamp, date_format, from_utc_timestamp\n",
    "\n",
    "# 1° item - colunas solicitadas\n",
    "colunas = ['Aerodromo_de_Destino', 'Aerodromo_de_Origem', 'Classificacao_da_Ocorrência', 'Danos_a_Aeronave', 'Data_da_Ocorrencia', 'Municipio', 'UF', 'Regiao', 'Tipo_de_Aerodromo', 'Tipo_de_Ocorrencia', 'Lesoes_Desconhecidas_Passageiros', 'Lesoes_Desconhecidas_Terceiros', 'Lesoes_Desconhecidas_Tripulantes', 'Lesoes_Fatais_Passageiros', 'Lesoes_Fatais_Terceiros', 'Lesoes_Fatais_Tripulantes', 'Lesoes_Graves_Passageiros', 'Lesoes_Graves_Terceiros', 'Lesoes_Graves_Tripulantes', 'Lesoes_Leves_Passageiros', 'Lesoes_Leves_Terceiros', 'Lesoes_Leves_Tripulantes']\n",
    "\n",
    "df = df.select(colunas)"
   ]
  },
  {
   "cell_type": "code",
   "execution_count": 0,
   "metadata": {
    "application/vnd.databricks.v1+cell": {
     "cellMetadata": {
      "byteLimit": 2048000,
      "rowLimit": 10000
     },
     "inputWidgets": {},
     "nuid": "b4bcd934-827c-41a7-be43-836c9029b18d",
     "showTitle": false,
     "tableResultSettingsMap": {},
     "title": ""
    }
   },
   "outputs": [],
   "source": [
    "# 2º item - coluna somando as lesoes\n",
    "colunas_somar = [\n",
    "    'Lesoes_Desconhecidas_Passageiros',\n",
    "    'Lesoes_Desconhecidas_Terceiros',\n",
    "    'Lesoes_Desconhecidas_Tripulantes',\n",
    "    'Lesoes_Fatais_Passageiros',\n",
    "    'Lesoes_Fatais_Terceiros',\n",
    "    'Lesoes_Fatais_Tripulantes',\n",
    "    'Lesoes_Graves_Passageiros',\n",
    "    'Lesoes_Graves_Terceiros',\n",
    "    'Lesoes_Graves_Tripulantes',\n",
    "    'Lesoes_Leves_Passageiros',\n",
    "    'Lesoes_Leves_Terceiros',\n",
    "    'Lesoes_Leves_Tripulantes'\n",
    "    ]\n",
    "\n",
    "df = df.withColumn('Total_Lesoes', sum(df[i] for i in colunas_somar))"
   ]
  },
  {
   "cell_type": "code",
   "execution_count": 0,
   "metadata": {
    "application/vnd.databricks.v1+cell": {
     "cellMetadata": {
      "byteLimit": 2048000,
      "rowLimit": 10000
     },
     "inputWidgets": {},
     "nuid": "e0ff5238-ada7-4fb6-966c-80156d4580f5",
     "showTitle": false,
     "tableResultSettingsMap": {
      "0": {
       "dataGridStateBlob": "{\"version\":1,\"tableState\":{\"columnPinning\":{\"left\":[\"#row_number#\"],\"right\":[]},\"columnSizing\":{},\"columnVisibility\":{}},\"settings\":{\"columns\":{}},\"syncTimestamp\":1757097931181}",
       "filterBlob": null,
       "queryPlanFiltersBlob": null,
       "tableResultIndex": 0
      }
     },
     "title": ""
    }
   },
   "outputs": [],
   "source": [
    "# 3º item - renomear colunas\n",
    "df = df\\\n",
    "    .withColumnRenamed('Aerodromo_de_Destino', 'Destino')\\\n",
    "    .withColumnRenamed('Aerodromo_de_Origem', 'Origem')\\\n",
    "    .withColumnRenamed('Classificacao_da_Ocorrência', 'Classificacao')\\\n",
    "    .withColumnRenamed('Danos_a_Aeronave', 'Danos')\\\n",
    "    .withColumnRenamed('Data_da_Ocorrencia', 'Data')\\\n",
    "    .withColumnRenamed('UF', 'Estado')\n",
    "\n",
    "# 4º item - excluir dados de estados que tenham a classificação [Indeterminado, Sem Registro, Exterior]\n",
    "classific = ['Indeterminado', 'Sem Registro', 'Exterior']\n",
    "df = df.filter(~df.Estado.isin(classific))\n",
    "\n",
    "# 5º item - inserir colnuna com nome de atualização para o usuario ver quando os dados foram atualizados\n",
    "df = df.withColumn(\"Atualizacao\",\\\n",
    "     date_format(from_utc_timestamp(current_timestamp(), \"America/Sao_Paulo\"), \"yyyy/MM/dd HH:mm:ss\"))\n",
    "display(df)"
   ]
  },
  {
   "cell_type": "code",
   "execution_count": 0,
   "metadata": {
    "application/vnd.databricks.v1+cell": {
     "cellMetadata": {
      "byteLimit": 2048000,
      "rowLimit": 10000
     },
     "inputWidgets": {},
     "nuid": "0672bc49-1a71-4352-90bc-c50f1d7ad6bd",
     "showTitle": false,
     "tableResultSettingsMap": {},
     "title": ""
    }
   },
   "outputs": [],
   "source": [
    "# 6° item - salvar a camada Gold particionada por UF = 'Estado'\n",
    "\n",
    "df.write.mode(\"overwrite\")\\\n",
    "    .format(\"parquet\")\\\n",
    "    .partitionBy(\"Estado\")\\\n",
    "    .save(\"dbfs:/mnt/Anac/Gold/anac_gold_partic/\")"
   ]
  }
 ],
 "metadata": {
  "application/vnd.databricks.v1+notebook": {
   "computePreferences": null,
   "dashboards": [],
   "environmentMetadata": {
    "base_environment": "",
    "environment_version": "3"
   },
   "inputWidgetPreferences": null,
   "language": "python",
   "notebookMetadata": {
    "mostRecentlyExecutedCommandWithImplicitDF": {
     "commandId": 4514275112419415,
     "dataframes": [
      "_sqldf"
     ]
    },
    "pythonIndentUnit": 4
   },
   "notebookName": "(Refat) 03.Patrick-ScriptsCamadaGold",
   "widgets": {}
  },
  "language_info": {
   "name": "python"
  }
 },
 "nbformat": 4,
 "nbformat_minor": 0
}
